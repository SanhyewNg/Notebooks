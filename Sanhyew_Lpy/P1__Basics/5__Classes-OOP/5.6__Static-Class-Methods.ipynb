version https://git-lfs.github.com/spec/v1
oid sha256:75b091abba79c6505f821d22124cbbdfd080276e40edb3abfa6a05c0a01cb7d9
size 61141
