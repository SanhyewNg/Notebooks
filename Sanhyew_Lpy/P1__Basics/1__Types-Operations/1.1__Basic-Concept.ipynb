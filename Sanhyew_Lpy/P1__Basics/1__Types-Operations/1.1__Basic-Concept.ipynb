version https://git-lfs.github.com/spec/v1
oid sha256:e4ba03d92c682c0079c1dcf75e866d52a680debf49eb51188917f8931422c2bd
size 36847
