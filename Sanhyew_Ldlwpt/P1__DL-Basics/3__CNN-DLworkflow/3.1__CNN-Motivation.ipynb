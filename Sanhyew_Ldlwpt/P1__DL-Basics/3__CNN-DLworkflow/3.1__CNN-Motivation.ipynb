version https://git-lfs.github.com/spec/v1
oid sha256:6b01aceec6883c895e30f799ff2d3e07da3ab30928e2812b49c38ceba62da1dc
size 23546
