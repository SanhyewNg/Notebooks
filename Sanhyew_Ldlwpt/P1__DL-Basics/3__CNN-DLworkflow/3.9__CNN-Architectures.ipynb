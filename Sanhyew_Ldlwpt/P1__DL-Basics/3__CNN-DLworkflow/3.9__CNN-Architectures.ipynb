version https://git-lfs.github.com/spec/v1
oid sha256:ec7397c2d5e804247a6f4763699dde3a41e4f9d34b2a7010de6a8eac4f03f694
size 333915
