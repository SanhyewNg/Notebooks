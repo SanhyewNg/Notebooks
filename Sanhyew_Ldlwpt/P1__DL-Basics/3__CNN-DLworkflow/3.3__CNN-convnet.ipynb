version https://git-lfs.github.com/spec/v1
oid sha256:92614465375d7ecc25ee4de1d233c096ad993236ab586eb0d65dd228acec7fdc
size 161653
