version https://git-lfs.github.com/spec/v1
oid sha256:715a5344554d23f69c9e7059f1edfe1da9ffd2d34868f459831363cd5bd690e6
size 173456
