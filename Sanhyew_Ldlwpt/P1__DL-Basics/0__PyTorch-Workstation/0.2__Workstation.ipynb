version https://git-lfs.github.com/spec/v1
oid sha256:14ed773ecd9e8786c26a503800f71e0a3e185cdeda645f7113bc6fdd55eaa15d
size 32506
